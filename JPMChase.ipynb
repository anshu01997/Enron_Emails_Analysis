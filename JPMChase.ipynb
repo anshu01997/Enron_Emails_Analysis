{
  "nbformat": 4,
  "nbformat_minor": 0,
  "metadata": {
    "colab": {
      "name": "JPMChase.ipynb",
      "provenance": [],
      "collapsed_sections": []
    },
    "kernelspec": {
      "name": "python3",
      "display_name": "Python 3"
    }
  },
  "cells": [
    {
      "cell_type": "code",
      "metadata": {
        "colab": {
          "base_uri": "https://localhost:8080/",
          "height": 444
        },
        "id": "CTtdP4S3R9yh",
        "outputId": "3b95da7b-8e09-46a5-9bed-adbdfb07101b"
      },
      "source": [
        "# Load the Pandas libraries with alias 'pd' \n",
        "import pandas as pd \n",
        "from matplotlib import pyplot as plt\n",
        "\n",
        "df = pd.read_csv(\"enron_test.csv\") \n",
        "df[\"new_date\"] = df[\"new_date\"].astype(\"datetime64\")\n",
        "\n",
        "# email = input(\"Enter Email for Analysis:\")\n",
        "email = 'richard.causey@enron.com'\n",
        "from_filter = df['From'].apply(lambda x: email in str(x))\n",
        "to_filter = df['To'].apply(lambda x: email in str(x))\n",
        "\n",
        "\n",
        "to_filtered_data = df.loc[to_filter][['To']]\n",
        "from_filtered_data = df.loc[from_filter][['From']]\n",
        "\n",
        "print(\"Analysis for: \", email)\n",
        "if to_filtered_data.size > 0:\n",
        "  to_filtered_data.groupby([df[\"new_date\"].dt.year, df[\"new_date\"].dt.isocalendar().week]).count().plot(kind=\"bar\", figsize=(10,5), color='#75d773', title = \"Weekly emails received:\", xlabel = '(Year, Week)', ylabel = 'Number of emails')\n",
        "else:\n",
        "  print(\"NO emails received!\")\n",
        "\n",
        "if from_filtered_data.size > 0:\n",
        "  from_filtered_data.groupby([df[\"new_date\"].dt.year, df[\"new_date\"].dt.isocalendar().week]).count().plot(kind=\"bar\", figsize=(15,5), color='#2173e7', title = \"Weekly emails sent:\", xlabel = '(Year, Week)', ylabel = 'Number of emails')\n",
        "else:\n",
        "  print(\"NO emails sent!\")\n",
        "\n",
        "plt.show()"
      ],
      "execution_count": null,
      "outputs": [
        {
          "output_type": "stream",
          "text": [
            "List of emails:\n",
            "Analysis for:  richard.causey@enron.com\n",
            "NO emails sent!\n"
          ],
          "name": "stdout"
        },
        {
          "output_type": "display_data",
          "data": {
            "image/png": "[encoded data removed]",
            "text/plain": [
              "<Figure size 720x360 with 1 Axes>"
            ]
          },
          "metadata": {
            "tags": [],
            "needs_background": "light"
          }
        }
      ]
    }
  ]
}